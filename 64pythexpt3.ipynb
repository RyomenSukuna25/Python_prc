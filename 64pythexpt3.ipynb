{
  "nbformat": 4,
  "nbformat_minor": 0,
  "metadata": {
    "colab": {
      "provenance": [],
      "authorship_tag": "ABX9TyNwhGEnbSJbuWjzleCZKnhI",
      "include_colab_link": true
    },
    "kernelspec": {
      "name": "python3",
      "display_name": "Python 3"
    },
    "language_info": {
      "name": "python"
    }
  },
  "cells": [
    {
      "cell_type": "markdown",
      "metadata": {
        "id": "view-in-github",
        "colab_type": "text"
      },
      "source": [
        "<a href=\"https://colab.research.google.com/github/RyomenSukuna25/Python_prc/blob/main/64pythexpt3.ipynb\" target=\"_parent\"><img src=\"https://colab.research.google.com/assets/colab-badge.svg\" alt=\"Open In Colab\"/></a>"
      ]
    },
    {
      "cell_type": "markdown",
      "source": [
        "Name:- Chirag Nagvekar\n",
        "Roll:- 64"
      ],
      "metadata": {
        "id": "02vkJUnkRmFe"
      }
    },
    {
      "cell_type": "code",
      "execution_count": null,
      "metadata": {
        "colab": {
          "base_uri": "https://localhost:8080/"
        },
        "id": "JiO5xpFdRVBE",
        "outputId": "c3602dc9-87c3-444c-ae54-1d83cdf6b527"
      },
      "outputs": [
        {
          "output_type": "stream",
          "name": "stdout",
          "text": [
            "Frontend Developer\n"
          ]
        }
      ],
      "source": [
        "class Employee:\n",
        "    def __init__(\n",
        "            self,\n",
        "            designation: str = 'Developer',\n",
        "            frontend: bool = False,\n",
        "            backend: bool = False\n",
        "    ):\n",
        "        self.designation = designation\n",
        "        self.frontend = frontend\n",
        "        self.backend = backend\n",
        "\n",
        "    def __repr__(self):\n",
        "        return '{}'.format(self.designation)\n",
        "\n",
        "    def verifier(self):\n",
        "        if self.frontend and self.backend:\n",
        "            return \"Fullstack\"\n",
        "        elif self.frontend:\n",
        "            return \"Frontend Developer\"\n",
        "        elif self.backend:\n",
        "            return \"Backend Developer\"\n",
        "        else:\n",
        "            return \"Not a Developer\"\n",
        "\n",
        "if __name__ == '__main__':\n",
        "    firstEmployee = Employee(frontend=True, backend=False)\n",
        "    print(firstEmployee.verifier())\n"
      ]
    }
  ]
}