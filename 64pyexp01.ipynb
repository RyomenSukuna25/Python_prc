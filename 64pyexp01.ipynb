{
  "nbformat": 4,
  "nbformat_minor": 0,
  "metadata": {
    "colab": {
      "provenance": [],
      "include_colab_link": true
    },
    "kernelspec": {
      "name": "python3",
      "display_name": "Python 3"
    },
    "language_info": {
      "name": "python"
    }
  },
  "cells": [
    {
      "cell_type": "markdown",
      "metadata": {
        "id": "view-in-github",
        "colab_type": "text"
      },
      "source": [
        "<a href=\"https://colab.research.google.com/github/RyomenSukuna25/Python_prc/blob/main/64pyexp01.ipynb\" target=\"_parent\"><img src=\"https://colab.research.google.com/assets/colab-badge.svg\" alt=\"Open In Colab\"/></a>"
      ]
    },
    {
      "cell_type": "markdown",
      "source": [],
      "metadata": {
        "id": "Xxk33KCrhCxF"
      }
    },
    {
      "cell_type": "markdown",
      "source": [
        "Name:- Chirag Nagvekar\n",
        "Roll no. :- 64"
      ],
      "metadata": {
        "id": "lsnHV3TEZ7CH"
      }
    },
    {
      "cell_type": "code",
      "execution_count": null,
      "metadata": {
        "colab": {
          "base_uri": "https://localhost:8080/"
        },
        "id": "tK0JjPytwzxO",
        "outputId": "8a435c92-ad7e-450b-a2b4-4bec6f7d869c"
      },
      "outputs": [
        {
          "output_type": "stream",
          "name": "stdout",
          "text": [
            "This is a string\n",
            "This is a string\n",
            "This is also\n",
            "a string\n"
          ]
        }
      ],
      "source": [
        "#Strings in Python\n",
        "a = 'This is a string'\n",
        "print (a)\n",
        "b = \"This is a string\"\n",
        "print (b)\n",
        "c= '''This is also\n",
        "a string'''\n",
        "print (c)"
      ]
    },
    {
      "cell_type": "code",
      "source": [
        "L = [1, \"a\" , \"string\" , 1+2,1.0]\n",
        "print (L)\n",
        "L.append(6)\n",
        "L.append(\"Chirag\")\n",
        "print (L)\n",
        "print (L[1])\n",
        "print (L[6])\n",
        "del L[6]\n",
        "print (L)"
      ],
      "metadata": {
        "colab": {
          "base_uri": "https://localhost:8080/"
        },
        "id": "TRHuDOUmzuco",
        "outputId": "587fc314-7fc7-4c60-ddb2-9f06b78da571"
      },
      "execution_count": null,
      "outputs": [
        {
          "output_type": "stream",
          "name": "stdout",
          "text": [
            "[1, 'a', 'string', 3, 1.0]\n",
            "[1, 'a', 'string', 3, 1.0, 6, 'Chirag']\n",
            "a\n",
            "Chirag\n",
            "[1, 'a', 'string', 3, 1.0, 6]\n"
          ]
        }
      ]
    },
    {
      "cell_type": "code",
      "source": [
        "tup = (1, \"a\", \"string\", 1+2)\n",
        "print(tup)\n",
        "tup1=(5,)\n",
        "print(tup1)\n",
        "print(tup[1])\n",
        "combined_tup = tup1 + tup\n",
        "print(combined_tup)\n",
        "repeated = tup * 3\n",
        "print (repeated)\n",
        "print(2 in tup)\n"
      ],
      "metadata": {
        "colab": {
          "base_uri": "https://localhost:8080/"
        },
        "id": "nJOpPCityHCY",
        "outputId": "b9e45abb-ba76-4f34-c5d3-b78805e72edd"
      },
      "execution_count": null,
      "outputs": [
        {
          "output_type": "stream",
          "name": "stdout",
          "text": [
            "(1, 'a', 'string', 3)\n",
            "(5,)\n",
            "a\n",
            "(5, 1, 'a', 'string', 3)\n",
            "(1, 'a', 'string', 3, 1, 'a', 'string', 3, 1, 'a', 'string', 3)\n",
            "False\n"
          ]
        }
      ]
    },
    {
      "cell_type": "code",
      "source": [
        "d = {1: 'Chirag', 2: 'Dharmendra', 3: 'Nagvekar'}\n",
        "print(d)\n",
        "d2 = dict(a = \"House\", b = \"of\", c = \"Cards\")\n",
        "print(d2)\n",
        "print(d[1])\n",
        "d[\"year\"]= 2004\n",
        "print(d)\n",
        "d[4] = \"year\"\n",
        "print(d[4])\n",
        "del d[2]\n",
        "print(d)\n",
        "\n"
      ],
      "metadata": {
        "colab": {
          "base_uri": "https://localhost:8080/"
        },
        "id": "xG2Br9uk4wRg",
        "outputId": "de646ac7-a106-4cc9-c52a-481885a6a5ac"
      },
      "execution_count": null,
      "outputs": [
        {
          "output_type": "stream",
          "name": "stdout",
          "text": [
            "{1: 'Chirag', 2: 'Dharmendra', 3: 'Nagvekar'}\n",
            "{'a': 'House', 'b': 'of', 'c': 'Cards'}\n",
            "Chirag\n",
            "{1: 'Chirag', 2: 'Dharmendra', 3: 'Nagvekar', 'year': 2004}\n",
            "year\n",
            "{1: 'Chirag', 3: 'Nagvekar', 'year': 2004, 4: 'year'}\n"
          ]
        }
      ]
    }
  ]
}