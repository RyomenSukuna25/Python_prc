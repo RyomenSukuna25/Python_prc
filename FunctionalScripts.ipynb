{
  "metadata": {
    "kernelspec": {
      "name": "python",
      "display_name": "Python (Pyodide)",
      "language": "python"
    },
    "language_info": {
      "codemirror_mode": {
        "name": "python",
        "version": 3
      },
      "file_extension": ".py",
      "mimetype": "text/x-python",
      "name": "python",
      "nbconvert_exporter": "python",
      "pygments_lexer": "ipython3",
      "version": "3.8"
    }
  },
  "nbformat_minor": 5,
  "nbformat": 4,
  "cells": [
    {
      "id": "97aceeed-1b2a-4e23-a804-d7c85f5291cc",
      "cell_type": "code",
      "source": "class File:\n    def __init__ (self, filename, method):\n        self.file = open (filename, method)\n\n    def __enter__ (self):\n        print ('Enter Method is executed')\n        return self.file\n    \n    def __exit__ (self, type, value, traceback):\n        print (f'{type}, {value}, {traceback}')\n        print ('Exit method is executed')\n        self.file.close ()\n        # return True\n        if type == Exception:\n            return True\n        \nif __name__ == '__main__':\n    with File ('./file.txt', 'w') as f:\n        print ('Middle part is executed')\n        f.write ('Some generic content')\n        raise Exception ()",
      "metadata": {
        "trusted": true
      },
      "outputs": [
        {
          "name": "stdout",
          "output_type": "stream",
          "text": "Enter Method is executed\nMiddle part is executed\n<class 'Exception'>, , <traceback object at 0x24226b8>\nExit method is executed\n"
        }
      ],
      "execution_count": 1
    },
    {
      "id": "db1b65ef-3c86-4bc2-82ab-c6eeabbfb136",
      "cell_type": "code",
      "source": "class File:\n    def __init__ (self, filename, method):\n        self.file = open (filename, method)\n\n    def __enter__ (self):\n        print ('Enter Method is executed')\n        return self.file\n    \n    def __exit__ (self, type, value, traceback):\n        print (f'{type}, {value}, {traceback}')\n        print ('Exit method is executed')\n        self.file.close ()\n        # return True\n        if type == Exception:\n            return True\n        \nif __name__ == '__main__':\n    with File ('./file.txt', 'r') as f:\n        print ('Middle part is executed')\n        raise Exception ()",
      "metadata": {
        "trusted": true
      },
      "outputs": [
        {
          "name": "stdout",
          "output_type": "stream",
          "text": "Enter Method is executed\nMiddle part is executed\n<class 'Exception'>, , <traceback object at 0x2317e58>\nExit method is executed\n"
        }
      ],
      "execution_count": 2
    },
    {
      "id": "15b115da-9ff7-4b79-b3be-561c40184805",
      "cell_type": "code",
      "source": "class File:\n    def __init__ (self, filename, method):\n        self.file = open (filename, method)\n\n    def __enter__ (self):\n        print ('Enter Method is executed')\n        return self.file\n    \n    def __exit__ (self, type, value, traceback):\n        print (f'{type}, {value}, {traceback}')\n        print ('Exit method is executed')\n        self.file.close ()\n        # return True\n        if type == Exception:\n            return True\n        \nif __name__ == '__main__':\n    with File ('./file.txt', 'a') as f:\n        print ('Middle part is executed')\n        f.write ('chirag')\n        raise Exception ()",
      "metadata": {
        "trusted": true
      },
      "outputs": [
        {
          "name": "stdout",
          "output_type": "stream",
          "text": "Enter Method is executed\nMiddle part is executed\n<class 'Exception'>, , <traceback object at 0x2423c78>\nExit method is executed\n"
        }
      ],
      "execution_count": 3
    },
    {
      "id": "b7486b61-f27c-42b7-8ccc-78e02f898b14",
      "cell_type": "code",
      "source": "",
      "metadata": {
        "trusted": true
      },
      "outputs": [],
      "execution_count": null
    },
    {
      "id": "49713184-e333-4ba9-a4a3-35c0f3c59a26",
      "cell_type": "code",
      "source": "",
      "metadata": {
        "trusted": true
      },
      "outputs": [],
      "execution_count": null
    },
    {
      "id": "0b16c769-ced3-4da8-a3ca-a96f1d727a0a",
      "cell_type": "code",
      "source": "",
      "metadata": {
        "trusted": true
      },
      "outputs": [],
      "execution_count": null
    }
  ]
}