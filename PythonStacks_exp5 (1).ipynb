{
  "nbformat": 4,
  "nbformat_minor": 0,
  "metadata": {
    "colab": {
      "provenance": []
    },
    "kernelspec": {
      "name": "python3",
      "display_name": "Python 3"
    },
    "language_info": {
      "name": "python"
    }
  },
  "cells": [
    {
      "cell_type": "code",
      "execution_count": 2,
      "metadata": {
        "colab": {
          "base_uri": "https://localhost:8080/"
        },
        "id": "tJB_yxfTMQx-",
        "outputId": "2eccba5f-a86f-4175-c9e4-5c74811b614d"
      },
      "outputs": [
        {
          "output_type": "stream",
          "name": "stdout",
          "text": [
            "Initial Stack: ['a', 'b', 'c']\n",
            "Popped: c\n",
            "Popped: b\n",
            "Popped: a\n",
            "Stack after popping: []\n",
            "Max depth: 3\n",
            "Max depth: 3\n",
            "Max depth: 3\n"
          ]
        }
      ],
      "source": [
        "stack = []\n",
        "\n",
        "stack.append('a')\n",
        "stack.append('b')\n",
        "stack.append('c')\n",
        "print(\"Initial Stack:\", stack)\n",
        "\n",
        "print(\"Popped:\", stack.pop())\n",
        "print(\"Popped:\", stack.pop())\n",
        "print(\"Popped:\", stack.pop())\n",
        "print(\"Stack after popping:\", stack)\n",
        "\n",
        "class StackDepth:\n",
        "    def maximumDepth(self, stringInput):\n",
        "        max_depth = 0\n",
        "        current_depth = 0\n",
        "\n",
        "        for char in stringInput:\n",
        "            if char == '(':\n",
        "                current_depth += 1\n",
        "                max_depth = max(max_depth, current_depth)\n",
        "            elif char == ')':\n",
        "                current_depth -= 1\n",
        "\n",
        "        return max_depth\n",
        "\n",
        "depth_checker = StackDepth()\n",
        "print(\"Max depth:\", depth_checker.maximumDepth(\"(1+(2*3)+((8)/4))+1\"))\n",
        "print(\"Max depth:\", depth_checker.maximumDepth(\"(1)+((2))+(((3)))\"))\n",
        "print(\"Max depth:\", depth_checker.maximumDepth(\"((()))(())((()()))\"))\n",
        "# Chirag Nagvekar, 64\n",
        "\n"
      ]
    }
  ]
}