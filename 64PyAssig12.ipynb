{
  "nbformat": 4,
  "nbformat_minor": 0,
  "metadata": {
    "colab": {
      "provenance": [],
      "authorship_tag": "ABX9TyPVE1aqtRRoapblWaGnzb2P",
      "include_colab_link": true
    },
    "kernelspec": {
      "name": "python3",
      "display_name": "Python 3"
    },
    "language_info": {
      "name": "python"
    }
  },
  "cells": [
    {
      "cell_type": "markdown",
      "metadata": {
        "id": "view-in-github",
        "colab_type": "text"
      },
      "source": [
        "<a href=\"https://colab.research.google.com/github/RyomenSukuna25/Python_prc/blob/main/64PyAssig12.ipynb\" target=\"_parent\"><img src=\"https://colab.research.google.com/assets/colab-badge.svg\" alt=\"Open In Colab\"/></a>"
      ]
    },
    {
      "cell_type": "markdown",
      "source": [
        "Name:- Chirag Dharmendra Nagvekar. Class:- SE3/S3/64"
      ],
      "metadata": {
        "id": "FsYw2fDpkLhb"
      }
    },
    {
      "cell_type": "code",
      "execution_count": 1,
      "metadata": {
        "colab": {
          "base_uri": "https://localhost:8080/"
        },
        "id": "-CwbMjx-kCNQ",
        "outputId": "a93cae7a-9dc3-41e6-bbe2-e0dde3b7f68c"
      },
      "outputs": [
        {
          "output_type": "stream",
          "name": "stdout",
          "text": [
            "Name: Chirag Dharmendra Nagvekar.        Class: SE3/S3/64\n",
            "\n",
            "Original DataFrame:\n",
            "   Product  Price  Stock     Category\n",
            "0    Shoes     60     50     Clothing\n",
            "1  T-Shirt     20    100     Clothing\n",
            "2   Jacket    120     30     Clothing\n",
            "3      Hat     15     80  Accessories\n",
            "4    Socks      5    200  Accessories\n",
            "\n",
            "DataFrame after adding Discounted Price:\n",
            "   Product  Price  Stock     Category  Discounted Price\n",
            "0    Shoes     60     50     Clothing             51.00\n",
            "1  T-Shirt     20    100     Clothing             17.00\n",
            "2   Jacket    120     30     Clothing            102.00\n",
            "3      Hat     15     80  Accessories             12.75\n",
            "4    Socks      5    200  Accessories              4.25\n",
            "\n",
            "Filtered Products (Price > 50):\n",
            "  Product  Price  Stock  Category  Discounted Price\n",
            "0   Shoes     60     50  Clothing              51.0\n",
            "2  Jacket    120     30  Clothing             102.0\n",
            "\n",
            "Average Price per Category:\n",
            "Category\n",
            "Accessories    10.000000\n",
            "Clothing       66.666667\n",
            "Name: Price, dtype: float64\n",
            "\n",
            "Data saved to product_data.csv\n"
          ]
        }
      ],
      "source": [
        "import pandas as pd\n",
        "\n",
        "# Student Info\n",
        "print(\"Name: Chirag Dharmendra Nagvekar.        Class: SE3/S3/64\")\n",
        "\n",
        "# Product Data\n",
        "data = {\n",
        "    \"Product\": [\"Shoes\", \"T-Shirt\", \"Jacket\", \"Hat\", \"Socks\"],\n",
        "    \"Price\": [60, 20, 120, 15, 5],\n",
        "    \"Stock\": [50, 100, 30, 80, 200],\n",
        "    \"Category\": [\"Clothing\", \"Clothing\", \"Clothing\", \"Accessories\", \"Accessories\"]\n",
        "}\n",
        "\n",
        "# Creating DataFrame\n",
        "df = pd.DataFrame(data)\n",
        "print(\"\\nOriginal DataFrame:\")\n",
        "print(df)\n",
        "\n",
        "# Adding Discounted Price (15% off)\n",
        "df[\"Discounted Price\"] = df[\"Price\"] * 0.85\n",
        "print(\"\\nDataFrame after adding Discounted Price:\")\n",
        "print(df)\n",
        "\n",
        "# Filter products with price > 50\n",
        "filtered_df = df[df[\"Price\"] > 50]\n",
        "print(\"\\nFiltered Products (Price > 50):\")\n",
        "print(filtered_df)\n",
        "\n",
        "# Average price per category\n",
        "category_avg_price = df.groupby(\"Category\")[\"Price\"].mean()\n",
        "print(\"\\nAverage Price per Category:\")\n",
        "print(category_avg_price)\n",
        "\n",
        "# Save to CSV\n",
        "df.to_csv(\"product_data.csv\", index=False)\n",
        "print(\"\\nData saved to product_data.csv\")\n"
      ]
    }
  ]
}