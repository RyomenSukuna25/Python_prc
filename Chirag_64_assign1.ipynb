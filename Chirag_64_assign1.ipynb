{
  "nbformat": 4,
  "nbformat_minor": 0,
  "metadata": {
    "colab": {
      "provenance": [],
      "authorship_tag": "ABX9TyMv6KO5SZbWAOVS4DbKlLdH",
      "include_colab_link": true
    },
    "kernelspec": {
      "name": "python3",
      "display_name": "Python 3"
    },
    "language_info": {
      "name": "python"
    }
  },
  "cells": [
    {
      "cell_type": "markdown",
      "metadata": {
        "id": "view-in-github",
        "colab_type": "text"
      },
      "source": [
        "<a href=\"https://colab.research.google.com/github/RyomenSukuna25/Python_prc/blob/main/Chirag_64_assign1.ipynb\" target=\"_parent\"><img src=\"https://colab.research.google.com/assets/colab-badge.svg\" alt=\"Open In Colab\"/></a>"
      ]
    },
    {
      "cell_type": "code",
      "execution_count": null,
      "metadata": {
        "colab": {
          "base_uri": "https://localhost:8080/"
        },
        "id": "Paq-whF-QIJC",
        "outputId": "e5f82c7c-0843-49eb-fe1d-8f8e0d3c9afc"
      },
      "outputs": [
        {
          "output_type": "stream",
          "name": "stdout",
          "text": [
            "\n",
            "1. Add Product\n",
            "2. Update Product Stock\n",
            "3. View Product Details\n",
            "4. Exit\n",
            "Enter your choice: 1\n",
            "Enter product name: laptop\n",
            "Enter product price: 500000\n",
            "Enter product stock: 5111\n",
            "Product added successfully!\n",
            "\n",
            "1. Add Product\n",
            "2. Update Product Stock\n",
            "3. View Product Details\n",
            "4. Exit\n"
          ]
        }
      ],
      "source": [
        "class Product:\n",
        "    def __init__(self, name, price, stock):\n",
        "        self.name = name\n",
        "        self.price = price\n",
        "        self.stock = stock\n",
        "\n",
        "    def update_stock(self, quantity):\n",
        "        if self.stock + quantity < 0:\n",
        "            print(\"Error: Not enough stock!\")\n",
        "        else:\n",
        "            self.stock += quantity\n",
        "            print(\"Stock updated successfully!\")\n",
        "\n",
        "    def __str__(self):\n",
        "        return f\"Product: {self.name}, Price: ${self.price:.2f}, Stock: {self.stock}\"\n",
        "\n",
        "\n",
        "class Store:\n",
        "    def __init__(self):\n",
        "        self.products = {}\n",
        "\n",
        "    def add_product(self, name, price, stock):\n",
        "        if name in self.products:\n",
        "            print(\"Error: Product already exists!\")\n",
        "        else:\n",
        "            self.products[name] = Product(name, price, stock)\n",
        "            print(\"Product added successfully!\")\n",
        "\n",
        "    def update_product_stock(self, name, quantity):\n",
        "        if name in self.products:\n",
        "            self.products[name].update_stock(quantity)\n",
        "        else:\n",
        "            print(\"Error: Product not found!\")\n",
        "\n",
        "    def view_product(self, name):\n",
        "        if name in self.products:\n",
        "            print(self.products[name])\n",
        "        else:\n",
        "            print(\"Error: Product not found!\")\n",
        "\n",
        "\n",
        "def main():\n",
        "    store = Store()\n",
        "    while True:\n",
        "        print(\"\\n1. Add Product\")\n",
        "        print(\"2. Update Product Stock\")\n",
        "        print(\"3. View Product Details\")\n",
        "        print(\"4. Exit\")\n",
        "\n",
        "        choice = str(input(\"Enter your choice: \")).strip()\n",
        "\n",
        "        if choice == '1':\n",
        "            name = str(input(\"Enter product name: \")).strip()\n",
        "            try:\n",
        "                price = float(str(input(\"Enter product price: \")).strip())\n",
        "                stock = int(str(input(\"Enter product stock: \")).strip())\n",
        "                store.add_product(name, price, stock)\n",
        "            except ValueError:\n",
        "                print(\"Error: Invalid input! Price and stock must be numbers.\")\n",
        "\n",
        "        elif choice == '2':\n",
        "            name = str(input(\"Enter product name to update: \")).strip()\n",
        "            try:\n",
        "                quantity = int(str(input(\"Enter quantity to add/remove: \")).strip())\n",
        "                store.update_product_stock(name, quantity)\n",
        "            except ValueError:\n",
        "                print(\"Error: Quantity must be an integer.\")\n",
        "\n",
        "        elif choice == '3':\n",
        "            name = str(input(\"Enter product name: \")).strip()\n",
        "            store.view_product(name)\n",
        "\n",
        "        elif choice == '4':\n",
        "            print(\"Exiting the system. Goodbye!\")\n",
        "            break\n",
        "\n",
        "        else:\n",
        "            print(\"Invalid choice! Please try again.\")\n",
        "\n",
        "\n",
        "if __name__ == \"__main__\":\n",
        "    main()\n"
      ]
    },
    {
      "cell_type": "markdown",
      "source": [],
      "metadata": {
        "id": "EtKTZPY_QJ0p"
      }
    }
  ]
}