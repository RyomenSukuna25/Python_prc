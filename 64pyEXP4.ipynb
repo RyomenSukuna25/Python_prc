{
  "nbformat": 4,
  "nbformat_minor": 0,
  "metadata": {
    "colab": {
      "provenance": [],
      "include_colab_link": true
    },
    "kernelspec": {
      "name": "python3",
      "display_name": "Python 3"
    },
    "language_info": {
      "name": "python"
    }
  },
  "cells": [
    {
      "cell_type": "markdown",
      "metadata": {
        "id": "view-in-github",
        "colab_type": "text"
      },
      "source": [
        "<a href=\"https://colab.research.google.com/github/RyomenSukuna25/Python_prc/blob/main/64pyEXP4.ipynb\" target=\"_parent\"><img src=\"https://colab.research.google.com/assets/colab-badge.svg\" alt=\"Open In Colab\"/></a>"
      ]
    },
    {
      "cell_type": "code",
      "execution_count": 1,
      "metadata": {
        "colab": {
          "base_uri": "https://localhost:8080/"
        },
        "id": "eg4xM1nX4NeE",
        "outputId": "a1b1d375-993c-4d23-eccc-f835e1a05f5e"
      },
      "outputs": [
        {
          "output_type": "stream",
          "name": "stdout",
          "text": [
            "My name is\n",
            "My name is CHIRAG\n"
          ]
        }
      ],
      "source": [
        "from contextlib import contextmanager\n",
        "\n",
        "@contextmanager\n",
        "def genericFileFunction (filename, method):\n",
        "    file = open (filename, method)\n",
        "    yield file\n",
        "    file.close ()\n",
        "\n",
        "if __name__ == '__main__':\n",
        "    with genericFileFunction ('./file.txt', 'w') as f:\n",
        "        f.write ('My name is')\n",
        "    with genericFileFunction ('./file.txt', 'r') as f:\n",
        "        print(f.read())\n",
        "    with genericFileFunction ('./file.txt', 'a') as f:\n",
        "         f.write (' CHIRAG')\n",
        "    with genericFileFunction ('./file.txt', 'r') as f:\n",
        "        print(f.read())"
      ]
    }
  ]
}