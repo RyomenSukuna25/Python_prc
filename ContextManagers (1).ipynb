{
  "metadata": {
    "kernelspec": {
      "name": "python",
      "display_name": "Python (Pyodide)",
      "language": "python"
    },
    "language_info": {
      "codemirror_mode": {
        "name": "python",
        "version": 3
      },
      "file_extension": ".py",
      "mimetype": "text/x-python",
      "name": "python",
      "nbconvert_exporter": "python",
      "pygments_lexer": "ipython3",
      "version": "3.8"
    }
  },
  "nbformat_minor": 5,
  "nbformat": 4,
  "cells": [
    {
      "id": "b7486b61-f27c-42b7-8ccc-78e02f898b14",
      "cell_type": "code",
      "source": "from contextlib import contextmanager\n\n@contextmanager\ndef genericFileFunction(filename, method):\n    print('Enter Method')\n    file = open(filename, method)\n    yield file\n    file.close()\n    print('Exit')\n\nif __name__ == '__main__':\n    with genericFileFunction('./file.txt', 'w') as f:\n        print('Middle - Writing')\n        f.write('NEWCONTEXT\\n')\n\n    with genericFileFunction('./file.txt', 'r') as f:\n        print('Middle - Reading')\n        content = f.read()\n        print('File content:', content)\n\n    with genericFileFunction('./file.txt', 'a') as f:\n        print('Middle - Appending')\n        f.write('Hello again!')\n\n    with genericFileFunction('./file.txt', 'r') as f:\n        print('Middle - Reading after append')\n        content = f.read()\n        print('File content after append:', content)",
      "metadata": {
        "trusted": true
      },
      "outputs": [],
      "execution_count": null
    },
    {
      "id": "49713184-e333-4ba9-a4a3-35c0f3c59a26",
      "cell_type": "code",
      "source": "",
      "metadata": {
        "trusted": true
      },
      "outputs": [],
      "execution_count": null
    },
    {
      "id": "0b16c769-ced3-4da8-a3ca-a96f1d727a0a",
      "cell_type": "code",
      "source": "",
      "metadata": {
        "trusted": true
      },
      "outputs": [],
      "execution_count": null
    }
  ]
}